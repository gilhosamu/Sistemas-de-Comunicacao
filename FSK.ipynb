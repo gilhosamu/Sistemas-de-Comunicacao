import numpy as np
import matplotlib.pyplot as plt
import math

#bits = np.random.randint(2, size=8)
bits = np.array([1, 1, 1, 1, 0, 0, 1, 0, 0, 0, 1, 0])  #sequencia de bits

fs = 100e3  #frequencia do sinal amostragem
T_s = 1e-3 # intervalo de bit (periodo por bit)
Tb = T_s
num_amostras_por_bit = int(fs*T_s)

# NRZ Unipolar
Eb = 9
A = np.sqrt(Eb)   #amplitude do pulso
UNRZ = np.array([])

for i in bits:
  if i == 1:
    UNRZ = np.append(UNRZ, A * np.ones(num_amostras_por_bit))
  elif i == 0:
    UNRZ = np.append(UNRZ, 0 * np.ones(num_amostras_por_bit))

#print(bits)
plt.figure(0)
plt.plot(UNRZ)
plt.title("NRZ Unipolar")

invUNRZ = np.where(UNRZ==np.sqrt(Eb),0,np.sqrt(Eb))
#plt.plot(invUNRZ)
#plt.title("UNRZ Unipolar  Invertido")

fc1=5e3
fc2=15e3
t = np.linspace(0, T_s*len(bits),num_amostras_por_bit*len(bits))
phi1 = np.sqrt(2/Tb)*np.cos(2*np.pi*fc1*t)
phi2 = np.sqrt(2/Tb)*np.cos(2*np.pi*fc2*t)


sfsk=np.array([])

sfsk = UNRZ*phi1 + invUNRZ*phi2

print(bits)
#plt.plot(sfsk)

#Detecção coerente
# Reajustando as funções base para a escala do sinal
ts = np.linspace(0, T_s*bits.size, sfsk.size)
phi_1 = np.sqrt(2/T_s)*np.cos(2*np.pi*fc1*ts)
phi_2 = np.sqrt(2/T_s)*np.cos(2*np.pi*fc2*ts)

dx1 = sfsk*phi_1
dx2 = sfsk*phi_2


from scipy.integrate import simps

tx = np.linspace(0, T_s, 100)
X = np.array([])
Y = np.array([])
for x in range(bits.size):
    X = np.append(X, simps(dx1[tx.size*x:tx.size*(x+1)], tx))
    Y = np.append(Y, simps(dx2[tx.size*x:tx.size*(x+1)], tx))

yout = X - Y

#print(yout)

bits_received = np.array([])
for x in yout:
  if x > 0:
    bits_received = np.append(bits_received,1)
  else:
    bits_received = np.append(bits_received,0)

print(bits)
print(bits_received)


s_fft = np.fft.fft(sfsk)
s_freq = np.fft.fftfreq(len(sfsk), 1/(100000))

fig, axs = plt.subplots(2, 1, constrained_layout=True, figsize=(10, 10))
axs[0].plot(t, sfsk)
axs[0].set_title('Sinal modulado FSK')
axs[0].set_xlabel('s')
axs[0].set_ylabel('V')
axs[0].grid('tight')

axs[1].set_title('FFT do sinal modulado')
axs[1].plot(s_freq, np.abs(s_fft))
axs[1].set_xlabel('Hz')
axs[1].set_ylabel('V')
axs[1].set_xlim(0, 30000)
axs[1].grid('tight')





