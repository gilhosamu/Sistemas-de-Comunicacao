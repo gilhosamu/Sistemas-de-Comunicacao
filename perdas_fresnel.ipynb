import math
import numpy as np
import matplotlib.pyplot as plt

#Raio de Fresnel
freq = [1, 1.2, 2.4, 3.7, 4.2, 5.8]  #GHz
d = 10 #km


D=4 #distância do topo do prédio para o link, em relação ao prédio
d1=5000 #distância em metros entre objeto e antena
d2=5000 #distância em metros entre objeto e antena
c=3*10**8 #light speed
h=-4 #distância do topo do prédio para o link, em relação a linha de visada

rf=np.zeros(len(freq))
lamb=np.zeros(len(freq))
v=np.zeros(len(freq))
obst=np.zeros(len(freq))
perda=np.zeros(len(freq))

for i in range(len(freq)):
    rf[i] = 17.32* math.sqrt(d/(4*freq[i]))
    print("Raio de Fresnel para f=" + str(freq[i]) + "GHz" + " e d=" + str(d)+"km -----> " + str(rf[i]) +" metros")
    lamb[i]=c/(freq[i]*10**9) #comprimento de onda
    obst[i] = D/rf[i] #verificação dos 40%
    print("Percurso livre ou obstaculo? " + str(obst[i]))
    if obst[i] < 0.6:
      print("Obstaculo!!")
      v[i] = h*math.sqrt(2*(d1+d2)/(lamb[i]*d1*d2))
      print("Parametro de fresnel = " + str(v[i]))
      if v[i]<0 and v[i]>-1:
        perda[i] = 20*math.log10(0.5 - 0.62*v[i]) 
        print("Perda por difracao= " + str(perda[i]) +"dB")


plt.figure(2)
plt.stem(freq, rf, use_line_collection = True)
plt.title('Raio de Fresnel')
plt.xlabel('Frequências (GHz)')
plt.ylabel('rf (metros)')
plt.grid()
plt.show()
