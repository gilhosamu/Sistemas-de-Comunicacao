##4-PSK
import numpy as np
import matplotlib.pyplot as plt

bits = np.array([0, 0, 0, 0, 1, 0, 0, 1, 1, 1, 0, 0])  #sequencia de bits

#converte os bits em grupos de 2 
def conv_sp(bits, p=3):
    return np.reshape(bits, (int(len(bits)/p), p))

#tabela com o mapeamento dos bits
table_8 = {
    1: [1,1,1], 
    2: [1,1,0], 
    3: [0,1,0],
    4: [0,1,1],
    5: [0,0,1],
    6: [0,0,0],
    7: [1,0,0],
    8: [1,0,1]
}

#retorna o numero da sequencia conforme tabela
def get_key(val): 
    for key, value in table_8.items(): 
         if np.array_equal(val,value): 
            return key
    return "key não existe"

#sinal 
def s(i, E, M):
     return (np.sqrt(E)*np.cos(2*(i-1)*(np.pi/M)), np.sqrt(E)*np.sin(2*(i-1)*(np.pi/M)))

#adiciona defasamento no sinal, se acordo com sua posição na constelação
def freq_shift(s, fc, t):
    return (s[0]*np.sqrt(2/t[-1])*np.cos(2*np.pi*fc*t))+(s[1]*np.sqrt(2/t[-1])*np.sin(2*np.pi*fc*t))


E = 0.009  #energia do sinal  W.s
M = 8  #variações de fase
fc = 1e4   #freq da portadora em Hz
Ts = 1e-3  #intervalo de bit em s

##codigo
conv = conv_sp(bits)
ts = np.linspace(0, Ts, 1000)
qpsk = np.array([])
for signal in conv:
    i = get_key(signal)
    qpsk = np.append(qpsk, freq_shift(s(i, E, M), fc, ts))


#Visualização do sinal no tempo e na frequência
plt.figure(num=1,figsize=(20,7))
t = np.linspace(0, Ts*conv.shape[0], qpsk.size)
plt.plot(t, qpsk)
plt.title("Modulação 8-PSK")
plt.ylabel("Amplitude (V)")
plt.xlabel("time (s)")

S = np.fft.fft(qpsk)
n = np.fft.fftfreq(S.size, d=t[1])
plt.figure(num=2)
plt.plot(n[0:int(n.size/32)], abs(S[0:int(S.size/32)]))
plt.ylabel("|S(w)|")
plt.xlabel("frequency (Hz)")
