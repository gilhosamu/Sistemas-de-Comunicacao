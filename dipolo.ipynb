#!/usr/bin/env python3
# -*- coding: utf-8 -*-
"""
Created on Wed Dec 16 11:53:10 2020

@author: samir
"""

# Importando as bibliotecas
import numpy as np
import matplotlib.pyplot as plt
from numpy import cos,sin,pi
from decimal import *
getcontext().prec = 28  ##aumentando a precisão dos cálculos

c=3*10**8
f=2400*10**6
lambdas = c/f  #comprimento de onda  lambdas = c/f
print("Comprimento de onda: " + str(lambdas)+ "m")
#lambdas=0.25  

l= 0.0125  #comprimento do dipolo
k=(l/lambdas)


theta= np.linspace(0,2*pi,360)  #Cria o vetor theta variando de 0 à 2pi
a1=cos(k*pi*cos(theta)) #Calcula a primeira parte da equação da diretividade
a2=cos(k*pi)              #Calcula a segunda parte da equação da diretividade
a3=sin(theta)             #Calcula a terceira parte da equação da diretividade
E=(a1-a2)/a3;            #Calcula a diretividade (primeiro valor = NaN ->divisao por zero)
E=np.nan_to_num(E)         #elimina divisao por zero
En=np.abs(E);                  #Calcula o módulo

plt.figure(1)
plt.figure(figsize=(10, 10))
plt.polar(theta,En)   #Plota em forma polar o diagrama de irradiação da antena dipolo na figura 1
