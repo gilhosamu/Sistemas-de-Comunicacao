import math
import numpy as np
import matplotlib.pyplot as plt

Ptx = 10
Gtx = 7
Grx = 6

c=3*10**8
f=1300*10**6
lamb=c/f
print("Comprimento de onda: " + str(lamb) + " m")
dist = [ 1000, 2000, 3000, 4000, 5000, 6000, 7000]
L=np.zeros(len(dist))
Prx=np.zeros(len(dist))

for i in range(len(dist)):
    L[i] = 20*math.log10((4*math.pi*dist[i])/lamb)
    print("EL - Atenuação do sinal: " + str(L[i]) + "dB" + " para d= "+str(dist[i]) + " m")
    Prx[i] = Ptx + Gtx + Grx - L[i]

plt.figure(0)
plt.plot(dist, L, color = 'blue')
plt.title('Espaço Livre')
plt.xlabel('Distância (m)')
plt.ylabel('Atenuação (dB)')
plt.grid()
plt.show()

plt.figure(0)
plt.plot(dist, Prx, color = 'blue')
plt.title('Espaço Livre')
plt.xlabel('Distância (m)')
plt.ylabel('Potência Recebida (dBm)')
plt.grid()
plt.show()
